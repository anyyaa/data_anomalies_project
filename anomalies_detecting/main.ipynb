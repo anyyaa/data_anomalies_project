{
  "nbformat": 4,
  "nbformat_minor": 0,
  "metadata": {
    "colab": {
      "provenance": [],
      "authorship_tag": "ABX9TyPczDWCYz16LRs5vdWaAG0E",
      "include_colab_link": true
    },
    "kernelspec": {
      "name": "python3",
      "display_name": "Python 3"
    },
    "language_info": {
      "name": "python"
    }
  },
  "cells": [
    {
      "cell_type": "markdown",
      "metadata": {
        "id": "view-in-github",
        "colab_type": "text"
      },
      "source": [
        "<a href=\"https://colab.research.google.com/github/anyyaa/data_anomalies_project/blob/patch/anomalies_detecting/main.ipynb\" target=\"_parent\"><img src=\"https://colab.research.google.com/assets/colab-badge.svg\" alt=\"Open In Colab\"/></a>"
      ]
    },
    {
      "cell_type": "code",
      "execution_count": 1,
      "metadata": {
        "id": "GCUVVon-ptrq"
      },
      "outputs": [],
      "source": [
        "import pandas as pd\n",
        "import numpy as np\n",
        "import all_functions"
      ]
    },
    {
      "cell_type": "code",
      "source": [
        "data = {\n",
        "    'ts': [\n",
        "        '2024-04-10 10:00:00', '2024-04-10 10:00:00',\n",
        "        '2024-04-10 10:05:00', '2024-04-10 10:10:00',\n",
        "        '2024-04-10 10:15:00', '2024-04-10 10:20:00'\n",
        "    ],\n",
        "    'ip': [\n",
        "        '192.168.0.1', '192.168.0.1',\n",
        "        '10.0.0.1', '10.0.0.1',\n",
        "        '8.8.8.8', '123.45.67.89'\n",
        "    ],\n",
        "    'page_view_order_number': [1, 1, 2, 3, 4, 5],\n",
        "    'event_order_number': [1, 1, 2, 3, 4, 5],\n",
        "    'event': ['page_view', 'page_view', 'click', 'scroll', 'click', 'logout'],\n",
        "    'secs': [5, 5, 3, 10, 4, 2],\n",
        "    'url': [\n",
        "        '/home', '/home', '/article/1', '/article/1', '/article/2', '/logout'\n",
        "    ],\n",
        "    'referer': [\n",
        "        '', '', '/home', '/article/1', '/home', '/article/2'\n",
        "    ],\n",
        "    'randPAS_user_passport_id': [1001, 1001, 1002, 1002, 1003, 1003],\n",
        "    'randPAS_user_agent_id': [2001, 2001, 2002, 2002, 2003, 2003],\n",
        "    'randPAS_trex_cid': [3001, 3001, 3002, 3002, 3003, 3003],\n",
        "    'randPAS_uma_media_cid': [4001, 4001, 4002, 4002, 4003, 4003],\n",
        "    'randPAS_session_id': ['sess1', 'sess1', 'sess2', 'sess2', 'sess3', 'sess3'],\n",
        "    'is_new_page': [1, 1, 0, 1, 1, 0],\n",
        "    'title': ['Home', 'Home', 'Article 1', 'Article 1', 'Article 2', 'Logout'],\n",
        "    'node_id': [101, 101, 102, 102, 103, 104],\n",
        "    'main_rubric_id': [201, 201, 202, 202, 203, 204],\n",
        "    'content_is_longread': [0, 0, 1, 1, 0, 0],\n",
        "    'content_editor_id': [301, 301, 302, 302, 303, 304],\n",
        "    'content_author_ids': [[401], [401], [402], [402], [403], [404]],\n",
        "    'is_registration': [0, 0, 0, 0, 0, 1],\n",
        "    'is_fast_login': [1, 1, 1, 1, 0, 0],\n",
        "    'ua_device_family': ['iPhone', 'iPhone', 'Android', 'Android', 'PC', 'PC'],\n",
        "    'ua_device_brand': ['Apple', 'Apple', 'Samsung', 'Samsung', 'Dell', 'Dell'],\n",
        "    'ua_device_model': ['X', 'X', 'S10', 'S10', 'XPS', 'XPS'],\n",
        "    'ua_os_family': ['iOS', 'iOS', 'Android', 'Android', 'Windows', 'Windows'],\n",
        "    'ua_os_version': ['14.4', '14.4', '10', '10', '10', '10'],\n",
        "    'ua_browser_family': ['Safari', 'Safari', 'Chrome', 'Chrome', 'Edge', 'Edge'],\n",
        "    'ua_browser_version': ['14', '14', '89', '89', '90', '90'],\n",
        "    'ua_is_mobile': [1, 1, 1, 1, 0, 0],\n",
        "    'ua_is_tablet': [0, 0, 0, 0, 0, 0],\n",
        "    'ua_is_pc': [0, 0, 0, 0, 1, 1],\n",
        "    'ua_is_bot': [0, 0, 0, 0, 0, 0],\n",
        "    'ua_device_type': ['mobile', 'mobile', 'mobile', 'mobile', 'pc', 'pc'],\n",
        "    'geo_city_id': [1, 1, 2, 2, 3, 4],\n",
        "    'date': ['2024-04-10'] * 6\n",
        "}\n",
        "\n",
        "df = pd.DataFrame(data)\n",
        "df['ts'] = pd.to_datetime(df['ts'])\n"
      ],
      "metadata": {
        "id": "G_C8SfRnqAWA"
      },
      "execution_count": 2,
      "outputs": []
    },
    {
      "cell_type": "code",
      "source": [
        "print(\"Проверка дубликатов событий:\")\n",
        "print(all_functions.check_duplicate_events(df))\n",
        "print(\"\\nПроверка начала сессий:\")\n",
        "print(all_functions.check_session_start(df))\n"
      ],
      "metadata": {
        "colab": {
          "base_uri": "https://localhost:8080/"
        },
        "id": "dGW01xsIqDFE",
        "outputId": "9e048f63-4422-4fd8-922b-3a1417abc4ac"
      },
      "execution_count": 4,
      "outputs": [
        {
          "output_type": "stream",
          "name": "stdout",
          "text": [
            "Проверка дубликатов событий:\n",
            "{'duplicates': [{'message': 'Дубликат события: ts=2024-04-10 10:00:00, event=page_view.', 'session_id': 'sess1', 'ip': '192.168.0.1'}, {'message': 'Дубликат события: ts=2024-04-10 10:00:00, event=page_view.', 'session_id': 'sess1', 'ip': '192.168.0.1'}]}\n",
            "\n",
            "Проверка начала сессий:\n",
            "{'start_errors': [{'message': 'Сессия sess2 не начинается с 1.', 'first_page_view': 2, 'first_event': 2, 'ip': '10.0.0.1'}, {'message': 'Сессия sess3 не начинается с 1.', 'first_page_view': 4, 'first_event': 4, 'ip': '8.8.8.8'}]}\n"
          ]
        }
      ]
    },
    {
      "cell_type": "code",
      "source": [
        "print(\"\\nПроверка соотношения order numbers:\")\n",
        "print(all_functions.check_order_relation(df))\n",
        "\n",
        "print(\"\\nПроверка последовательности нумерации:\")\n",
        "print(all_functions.check_numbering_sequence(df))"
      ],
      "metadata": {
        "colab": {
          "base_uri": "https://localhost:8080/"
        },
        "id": "GHZHswW-qLai",
        "outputId": "b7208fbe-f2ff-4cdc-8164-f2e8200755dd"
      },
      "execution_count": 5,
      "outputs": [
        {
          "output_type": "stream",
          "name": "stdout",
          "text": [
            "\n",
            "Проверка соотношения order numbers:\n",
            "{'relation_errors': [], 'message': 'Все номера событий соответствуют номерам просмотров страниц.'}\n",
            "\n",
            "Проверка последовательности нумерации:\n",
            "{'missing_numbers': [{'session_id': 'sess1', 'message': 'Номер события 1 не соответствует 2 в сессии sess1.', 'ip': '192.168.0.1', 'previous_event_ts': Timestamp('2024-04-10 10:00:00'), 'current_event_ts': Timestamp('2024-04-10 10:00:00'), 'previous_event': 'page_view', 'current_event': 'page_view'}]}\n"
          ]
        }
      ]
    },
    {
      "cell_type": "code",
      "source": [
        "print(all_functions.analyze_city_activity(df))\n"
      ],
      "metadata": {
        "colab": {
          "base_uri": "https://localhost:8080/"
        },
        "id": "0EmozHoMqVG3",
        "outputId": "a50dad5d-33e5-4895-e596-3bad6e1f6854"
      },
      "execution_count": 6,
      "outputs": [
        {
          "output_type": "stream",
          "name": "stdout",
          "text": [
            "(Empty DataFrame\n",
            "Columns: [geo_city_id, ts, event_count, z_score, is_anomaly, total_events, activity_ratio, prev_ratio, ratio_change]\n",
            "Index: [], Empty DataFrame\n",
            "Columns: [geo_city_id, ts, event_count, z_score, is_anomaly, total_events, activity_ratio, prev_ratio, ratio_change]\n",
            "Index: [])\n"
          ]
        },
        {
          "output_type": "stream",
          "name": "stderr",
          "text": [
            "/content/all_functions.py:166: FutureWarning: 'H' is deprecated and will be removed in a future version, please use 'h' instead.\n",
            "  city_activity = df.groupby(['geo_city_id', pd.Grouper(key='ts', freq=rolling_window)]) \\\n",
            "/content/all_functions.py:179: FutureWarning: 'H' is deprecated and will be removed in a future version, please use 'h' instead.\n",
            "  total_activity = df.groupby(pd.Grouper(key='ts', freq=rolling_window)) \\\n"
          ]
        }
      ]
    },
    {
      "cell_type": "code",
      "source": [
        "print(all_functions.detect_location_changes(df))"
      ],
      "metadata": {
        "colab": {
          "base_uri": "https://localhost:8080/"
        },
        "id": "BAI4ybj_qTNs",
        "outputId": "624be42a-6b90-4cd0-b895-0e7ec9caf1ac"
      },
      "execution_count": 7,
      "outputs": [
        {
          "output_type": "stream",
          "name": "stdout",
          "text": [
            "   user_id           city_changes  change_count        first_change  \\\n",
            "0     1003  3 (nans) → 4 (300.0s)             1 2024-04-10 10:20:00   \n",
            "\n",
            "          last_change  unique_cities  unique_ips  \n",
            "0 2024-04-10 10:20:00              2           2  \n"
          ]
        }
      ]
    },
    {
      "cell_type": "code",
      "source": [
        "print(all_functions.detect_suspicious_ips(df))"
      ],
      "metadata": {
        "colab": {
          "base_uri": "https://localhost:8080/"
        },
        "id": "RFuLWj8-qYt7",
        "outputId": "733e80f6-38c0-452a-b6e8-849551e05c43"
      },
      "execution_count": 8,
      "outputs": [
        {
          "output_type": "stream",
          "name": "stdout",
          "text": [
            "Empty DataFrame\n",
            "Columns: [ip, unique_users, total_actions, first_seen, last_seen, activity_period]\n",
            "Index: []\n"
          ]
        }
      ]
    },
    {
      "cell_type": "code",
      "source": [
        "print(all_functions.detect_user_activity_spikes(df))"
      ],
      "metadata": {
        "colab": {
          "base_uri": "https://localhost:8080/"
        },
        "id": "Ly7OEDB4qc4Z",
        "outputId": "21e928d8-1583-4e7c-843e-943b80bc00de"
      },
      "execution_count": 9,
      "outputs": [
        {
          "output_type": "stream",
          "name": "stdout",
          "text": [
            "Empty DataFrame\n",
            "Columns: [randPAS_user_passport_id, rapid_actions_count, min_time_diff, avg_time_diff, ip_list, ip_count]\n",
            "Index: []\n"
          ]
        }
      ]
    },
    {
      "cell_type": "code",
      "source": [
        "print(all_functions.detect_anomalous_time_windows(df))"
      ],
      "metadata": {
        "colab": {
          "base_uri": "https://localhost:8080/"
        },
        "id": "EhJdcOPoqgfg",
        "outputId": "4496608f-5e43-424e-a2e1-06e95af98f82"
      },
      "execution_count": 10,
      "outputs": [
        {
          "output_type": "stream",
          "name": "stdout",
          "text": [
            "Empty DataFrame\n",
            "Columns: [short, medium, long]\n",
            "Index: []\n"
          ]
        },
        {
          "output_type": "stream",
          "name": "stderr",
          "text": [
            "/content/all_functions.py:274: FutureWarning: 'H' is deprecated and will be removed in a future version, please use 'h' instead.\n",
            "  df['time_window'] = df['ts'].dt.floor(window_size)\n"
          ]
        }
      ]
    },
    {
      "cell_type": "code",
      "source": [
        "print(all_functions.detect_anomalous_device_shares(df))\n"
      ],
      "metadata": {
        "colab": {
          "base_uri": "https://localhost:8080/"
        },
        "id": "DoXcBvuaqiT4",
        "outputId": "76e54e3b-3a7a-4d85-e6a2-c3408b613742"
      },
      "execution_count": 13,
      "outputs": [
        {
          "output_type": "stream",
          "name": "stdout",
          "text": [
            "Empty DataFrame\n",
            "Columns: [Android, PC, iPhone]\n",
            "Index: []\n"
          ]
        },
        {
          "output_type": "stream",
          "name": "stderr",
          "text": [
            "/content/all_functions.py:306: FutureWarning: 'T' is deprecated and will be removed in a future version, please use 'min' instead.\n",
            "  df['time_window'] = df['ts'].dt.floor(window_size)\n"
          ]
        }
      ]
    },
    {
      "cell_type": "code",
      "source": [
        "print(all_functions.detect_anomalous_page_views(df))\n"
      ],
      "metadata": {
        "colab": {
          "base_uri": "https://localhost:8080/"
        },
        "id": "C0g3SSu-rHAa",
        "outputId": "4c64d902-aeae-4155-b3a1-e4558ea20ba1"
      },
      "execution_count": 14,
      "outputs": [
        {
          "output_type": "stream",
          "name": "stdout",
          "text": [
            "Empty DataFrame\n",
            "Columns: [time_window, url, growth]\n",
            "Index: []\n"
          ]
        },
        {
          "output_type": "stream",
          "name": "stderr",
          "text": [
            "/content/all_functions.py:330: FutureWarning: 'T' is deprecated and will be removed in a future version, please use 'min' instead.\n",
            "  df['time_window'] = df['ts'].dt.floor(window_size)\n"
          ]
        }
      ]
    },
    {
      "cell_type": "code",
      "source": [
        "print(all_functions.detect_anomalous_users(df))"
      ],
      "metadata": {
        "colab": {
          "base_uri": "https://localhost:8080/"
        },
        "id": "Y_sGZVJ3rIY5",
        "outputId": "cf9d6b64-40ad-4c40-b43f-bd57a18329d9"
      },
      "execution_count": 18,
      "outputs": [
        {
          "output_type": "stream",
          "name": "stdout",
          "text": [
            "   randPAS_user_passport_id  avg_time_spent  is_anomalous\n",
            "1                      1002 0 days 00:05:00            -1\n"
          ]
        }
      ]
    }
  ]
}